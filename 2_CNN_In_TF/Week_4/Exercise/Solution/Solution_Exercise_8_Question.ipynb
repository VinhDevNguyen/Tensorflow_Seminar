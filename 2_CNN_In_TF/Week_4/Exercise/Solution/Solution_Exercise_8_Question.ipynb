{
  "nbformat": 4,
  "nbformat_minor": 0,
  "metadata": {
    "colab": {
      "name": "Copy of Exercise 8 - Question.ipynb",
      "provenance": []
    },
    "kernelspec": {
      "display_name": "Python 3",
      "name": "python3"
    }
  },
  "cells": [
    {
      "cell_type": "code",
      "metadata": {
        "id": "zX4Kg8DUTKWO"
      },
      "source": [
        "#@title Licensed under the Apache License, Version 2.0 (the \"License\");\n",
        "# you may not use this file except in compliance with the License.\n",
        "# You may obtain a copy of the License at\n",
        "#\n",
        "# https://www.apache.org/licenses/LICENSE-2.0\n",
        "#\n",
        "# Unless required by applicable law or agreed to in writing, software\n",
        "# distributed under the License is distributed on an \"AS IS\" BASIS,\n",
        "# WITHOUT WARRANTIES OR CONDITIONS OF ANY KIND, either express or implied.\n",
        "# See the License for the specific language governing permissions and\n",
        "# limitations under the License."
      ],
      "execution_count": null,
      "outputs": []
    },
    {
      "cell_type": "code",
      "metadata": {
        "id": "wYtuKeK0dImp"
      },
      "source": [
        "import csv\n",
        "from tqdm import tqdm\n",
        "import numpy as np\n",
        "import tensorflow as tf\n",
        "from tensorflow.keras.preprocessing.image import ImageDataGenerator\n",
        "from google.colab import files"
      ],
      "execution_count": 24,
      "outputs": []
    },
    {
      "cell_type": "markdown",
      "metadata": {
        "id": "EmMyh9_mkDHF"
      },
      "source": [
        "The data for this exercise is available at: https://www.kaggle.com/datamunge/sign-language-mnist/home\n",
        "\n",
        "Sign up and download to find 2 CSV files: sign_mnist_test.csv and sign_mnist_train.csv -- You will upload both of them using this button before you can continue.\n"
      ]
    },
    {
      "cell_type": "code",
      "metadata": {
        "id": "IcLOZlnnc_N7"
      },
      "source": [
        "uploaded=files.upload()"
      ],
      "execution_count": null,
      "outputs": []
    },
    {
      "cell_type": "code",
      "metadata": {
        "colab": {
          "base_uri": "https://localhost:8080/"
        },
        "id": "NCyCqFgT1zbv",
        "outputId": "06ac3c9c-3590-495d-9389-1f76d8f0a92c"
      },
      "source": [
        "from google.colab import drive\n",
        "drive.mount('/content/drive')"
      ],
      "execution_count": 6,
      "outputs": [
        {
          "output_type": "stream",
          "text": [
            "Mounted at /content/drive\n"
          ],
          "name": "stdout"
        }
      ]
    },
    {
      "cell_type": "code",
      "metadata": {
        "id": "xvnfiOC_16-a"
      },
      "source": [
        "!cp /content/drive/MyDrive/Data/Sign_Language_MNIST/sign_mnist_test.csv ./\n",
        "!cp /content/drive/MyDrive/Data/Sign_Language_MNIST/sign_mnist_train.csv ./"
      ],
      "execution_count": 7,
      "outputs": []
    },
    {
      "cell_type": "code",
      "metadata": {
        "colab": {
          "base_uri": "https://localhost:8080/"
        },
        "id": "UxQXEOaz6Qyg",
        "outputId": "1e3022bf-83f6-448b-fbd0-106ff1044e08"
      },
      "source": [
        "with open('sign_mnist_train.csv') as f:\n",
        "  csv_reader = csv.reader(f, delimiter=',')\n",
        "  first_row = True\n",
        "  labels_temp = []\n",
        "  images_temp = []\n",
        "  for row in tqdm(csv_reader):\n",
        "    if not first_row:\n",
        "      label = row[0]\n",
        "      image_flatten = row[1:785]\n",
        "      image = np.array_split(image_flatten, 28)\n",
        "      images_temp.append(image)\n",
        "      labels_temp.append(label)\n",
        "    else:\n",
        "      first_row = False\n",
        "  images = np.array(images_temp).astype(float)\n",
        "  labels = np.array(labels_temp).astype(float)"
      ],
      "execution_count": 26,
      "outputs": [
        {
          "output_type": "stream",
          "text": [
            "27456it [00:06, 4124.86it/s]\n"
          ],
          "name": "stderr"
        }
      ]
    },
    {
      "cell_type": "code",
      "metadata": {
        "id": "4kxw-_rmcnVu",
        "colab": {
          "base_uri": "https://localhost:8080/"
        },
        "outputId": "b339d286-2cae-4ef5-ba94-17dccbe833c6"
      },
      "source": [
        "def get_data(filename):\n",
        "  # You will need to write code that will read the file passed\n",
        "  # into this function. The first line contains the column headers\n",
        "  # so you should ignore it\n",
        "  # Each successive line contians 785 comma separated values between 0 and 255\n",
        "  # The first value is the label\n",
        "  # The rest are the pixel values for that picture\n",
        "  # The function will return 2 np.array types. One with all the labels\n",
        "  # One with all the images\n",
        "  #\n",
        "  # Tips: \n",
        "  # If you read a full line (as 'row') then row[0] has the label\n",
        "  # and row[1:785] has the 784 pixel values\n",
        "  # Take a look at np.array_split to turn the 784 pixels into 28x28\n",
        "  # You are reading in strings, but need the values to be floats\n",
        "  # Check out np.array().astype for a conversion\n",
        "    with open(filename) as training_file:\n",
        "      # Your code starts here\n",
        "      csv_reader = csv.reader(training_file, delimiter=',')\n",
        "      first_row = True\n",
        "      labels_temp = []\n",
        "      images_temp = []\n",
        "      for row in csv_reader:\n",
        "        if not first_row:\n",
        "          label = row[0]\n",
        "          image_flatten = row[1:785]\n",
        "          image = np.array_split(image_flatten, 28)\n",
        "          images_temp.append(image)\n",
        "          labels_temp.append(label)\n",
        "        else:\n",
        "          first_row = False\n",
        "      images = np.array(images_temp).astype(float)\n",
        "      labels = np.array(labels_temp).astype(float)\n",
        "      # Your code ends here\n",
        "    return images, labels\n",
        "\n",
        "\n",
        "training_images, training_labels = get_data('sign_mnist_train.csv')\n",
        "testing_images, testing_labels = get_data('sign_mnist_test.csv')\n",
        "\n",
        "# Keep these\n",
        "print(training_images.shape)\n",
        "print(training_labels.shape)\n",
        "print(testing_images.shape)\n",
        "print(testing_labels.shape)\n",
        "\n",
        "# Their output should be:\n",
        "# (27455, 28, 28)\n",
        "# (27455,)\n",
        "# (7172, 28, 28)\n",
        "# (7172,)"
      ],
      "execution_count": 28,
      "outputs": [
        {
          "output_type": "stream",
          "text": [
            "(27455, 28, 28)\n",
            "(27455,)\n",
            "(7172, 28, 28)\n",
            "(7172,)\n"
          ],
          "name": "stdout"
        }
      ]
    },
    {
      "cell_type": "code",
      "metadata": {
        "colab": {
          "base_uri": "https://localhost:8080/"
        },
        "id": "PuBrdYo9Btfr",
        "outputId": "b847b3ba-4c1e-4aa2-9a1a-71b1da281a54"
      },
      "source": [
        "training_images.shape"
      ],
      "execution_count": 29,
      "outputs": [
        {
          "output_type": "execute_result",
          "data": {
            "text/plain": [
              "(27455, 28, 28)"
            ]
          },
          "metadata": {
            "tags": []
          },
          "execution_count": 29
        }
      ]
    },
    {
      "cell_type": "code",
      "metadata": {
        "id": "S1puUTYKBxSq"
      },
      "source": [
        "a = np.expand_dims(training_images, axis=3)"
      ],
      "execution_count": 32,
      "outputs": []
    },
    {
      "cell_type": "code",
      "metadata": {
        "colab": {
          "base_uri": "https://localhost:8080/"
        },
        "id": "wqAxWIVXCEjg",
        "outputId": "df10a7ba-67db-4706-a5d3-1a71d470360f"
      },
      "source": [
        "a.shape"
      ],
      "execution_count": 33,
      "outputs": [
        {
          "output_type": "execute_result",
          "data": {
            "text/plain": [
              "(27455, 28, 28, 1)"
            ]
          },
          "metadata": {
            "tags": []
          },
          "execution_count": 33
        }
      ]
    },
    {
      "cell_type": "code",
      "metadata": {
        "id": "awoqRpyZdQkD",
        "colab": {
          "base_uri": "https://localhost:8080/"
        },
        "outputId": "5fe83d18-aac6-4886-e8ab-f8487cadfc87"
      },
      "source": [
        "# In this section you will have to add another dimension to the data\n",
        "# So, for example, if your array is (10000, 28, 28)\n",
        "# You will need to make it (10000, 28, 28, 1)\n",
        "# Hint: np.expand_dims\n",
        "\n",
        "training_images = np.expand_dims(training_images, axis=3)\n",
        "testing_images = np.expand_dims(testing_images, axis=3)\n",
        "\n",
        "# Create an ImageDataGenerator and do Image Augmentation\n",
        "train_datagen = ImageDataGenerator(\n",
        "    rescale=1. / 255.,\n",
        "    rotation_range=40,\n",
        "    width_shift_range=0.2,\n",
        "    height_shift_range=0.2,\n",
        "    shear_range=0.2,\n",
        "    zoom_range=0.2,\n",
        "    horizontal_flip=True,\n",
        "    fill_mode='nearest')\n",
        "validation_datagen = ImageDataGenerator(\n",
        "    rescale=1./255.)\n",
        "\n",
        "    \n",
        "# Keep These\n",
        "print(training_images.shape)\n",
        "print(testing_images.shape)\n",
        "    \n",
        "# Their output should be:\n",
        "# (27455, 28, 28, 1)\n",
        "# (7172, 28, 28, 1)"
      ],
      "execution_count": 35,
      "outputs": [
        {
          "output_type": "stream",
          "text": [
            "(27455, 28, 28, 1)\n",
            "(7172, 28, 28, 1)\n"
          ],
          "name": "stdout"
        }
      ]
    },
    {
      "cell_type": "code",
      "metadata": {
        "id": "Rmb7S32cgRqS",
        "colab": {
          "base_uri": "https://localhost:8080/"
        },
        "outputId": "28f1328a-7948-47e6-fe91-044abc49593d"
      },
      "source": [
        "# Define the model\n",
        "# Use no more than 2 Conv2D and 2 MaxPooling2D\n",
        "model = tf.keras.models.Sequential([\n",
        "    tf.keras.layers.Conv2D(16, (3,3), activation='relu', input_shape = (28, 28, 1)),\n",
        "    tf.keras.layers.MaxPooling2D(),\n",
        "\n",
        "    tf.keras.layers.Conv2D(32, (3,3), activation='relu'),\n",
        "    tf.keras.layers.MaxPooling2D(),\n",
        "\n",
        "    tf.keras.layers.Flatten(),\n",
        "    tf.keras.layers.Dense(128, activation='relu'),\n",
        "    tf.keras.layers.Dense(25, activation='softmax')\n",
        "])\n",
        "\n",
        "# Compile Model. \n",
        "model.compile(optimizer='adam',\n",
        "              loss = 'sparse_categorical_crossentropy',\n",
        "              metrics = 'accuracy')\n",
        "\n",
        "# Train the Model\n",
        "history = model.fit(train_datagen.flow(training_images, training_labels),\n",
        "                    epochs = 15,\n",
        "                    validation_data = validation_datagen.flow(testing_images, testing_labels),\n",
        "                    )\n",
        "\n",
        "model.evaluate(testing_images, testing_labels)\n",
        "    \n",
        "# The output from model.evaluate should be close to:\n",
        "# [6.92426086682151, 0.56609035]"
      ],
      "execution_count": 46,
      "outputs": [
        {
          "output_type": "stream",
          "text": [
            "Epoch 1/15\n",
            "858/858 [==============================] - 28s 32ms/step - loss: 2.7710 - accuracy: 0.1611 - val_loss: 2.0299 - val_accuracy: 0.2968\n",
            "Epoch 2/15\n",
            "858/858 [==============================] - 26s 31ms/step - loss: 2.0678 - accuracy: 0.3462 - val_loss: 1.6026 - val_accuracy: 0.4537\n",
            "Epoch 3/15\n",
            "858/858 [==============================] - 26s 31ms/step - loss: 1.7387 - accuracy: 0.4406 - val_loss: 1.2983 - val_accuracy: 0.5498\n",
            "Epoch 4/15\n",
            "858/858 [==============================] - 26s 31ms/step - loss: 1.5296 - accuracy: 0.5036 - val_loss: 1.0734 - val_accuracy: 0.6214\n",
            "Epoch 5/15\n",
            "858/858 [==============================] - 27s 31ms/step - loss: 1.3716 - accuracy: 0.5545 - val_loss: 0.9873 - val_accuracy: 0.6513\n",
            "Epoch 6/15\n",
            "858/858 [==============================] - 27s 32ms/step - loss: 1.2707 - accuracy: 0.5848 - val_loss: 0.9181 - val_accuracy: 0.6882\n",
            "Epoch 7/15\n",
            "858/858 [==============================] - 27s 31ms/step - loss: 1.1634 - accuracy: 0.6174 - val_loss: 0.7973 - val_accuracy: 0.7274\n",
            "Epoch 8/15\n",
            "858/858 [==============================] - 27s 31ms/step - loss: 1.0800 - accuracy: 0.6441 - val_loss: 0.7186 - val_accuracy: 0.7482\n",
            "Epoch 9/15\n",
            "858/858 [==============================] - 26s 30ms/step - loss: 0.9992 - accuracy: 0.6697 - val_loss: 0.5807 - val_accuracy: 0.8079\n",
            "Epoch 10/15\n",
            "858/858 [==============================] - 26s 30ms/step - loss: 0.9444 - accuracy: 0.6873 - val_loss: 0.5363 - val_accuracy: 0.8010\n",
            "Epoch 11/15\n",
            "858/858 [==============================] - 26s 31ms/step - loss: 0.8854 - accuracy: 0.7077 - val_loss: 0.4924 - val_accuracy: 0.8376\n",
            "Epoch 12/15\n",
            "858/858 [==============================] - 26s 30ms/step - loss: 0.8519 - accuracy: 0.7178 - val_loss: 0.5117 - val_accuracy: 0.8222\n",
            "Epoch 13/15\n",
            "858/858 [==============================] - 26s 31ms/step - loss: 0.8160 - accuracy: 0.7261 - val_loss: 0.4645 - val_accuracy: 0.8413\n",
            "Epoch 14/15\n",
            "858/858 [==============================] - 26s 31ms/step - loss: 0.7784 - accuracy: 0.7424 - val_loss: 0.5475 - val_accuracy: 0.8081\n",
            "Epoch 15/15\n",
            "858/858 [==============================] - 26s 31ms/step - loss: 0.7337 - accuracy: 0.7564 - val_loss: 0.3935 - val_accuracy: 0.8603\n",
            "225/225 [==============================] - 2s 8ms/step - loss: 192.6798 - accuracy: 0.6288\n"
          ],
          "name": "stdout"
        },
        {
          "output_type": "execute_result",
          "data": {
            "text/plain": [
              "[192.67979431152344, 0.6288343667984009]"
            ]
          },
          "metadata": {
            "tags": []
          },
          "execution_count": 46
        }
      ]
    },
    {
      "cell_type": "code",
      "metadata": {
        "id": "_Q3Zpr46dsij",
        "colab": {
          "base_uri": "https://localhost:8080/",
          "height": 545
        },
        "outputId": "6d761b0f-6245-4352-d39f-0ddd87ed7257"
      },
      "source": [
        "# Plot the chart for accuracy and loss on both training and validation\n",
        "\n",
        "import matplotlib.pyplot as plt\n",
        "acc = history.history['accuracy']\n",
        "val_acc = history.history['val_accuracy']\n",
        "loss = history.history['loss']\n",
        "val_loss = history.history['val_loss']\n",
        "\n",
        "epochs = range(len(acc))\n",
        "\n",
        "plt.plot(epochs, acc, 'r', label='Training accuracy')\n",
        "plt.plot(epochs, val_acc, 'b', label='Validation accuracy')\n",
        "plt.title('Training and validation accuracy')\n",
        "plt.legend()\n",
        "plt.figure()\n",
        "\n",
        "plt.plot(epochs, loss, 'r', label='Training Loss')\n",
        "plt.plot(epochs, val_loss, 'b', label='Validation Loss')\n",
        "plt.title('Training and validation loss')\n",
        "plt.legend()\n",
        "\n",
        "plt.show()"
      ],
      "execution_count": 49,
      "outputs": [
        {
          "output_type": "display_data",
          "data": {
            "image/png": "[encoded data removed]",
            "text/plain": [
              "<Figure size 432x288 with 1 Axes>"
            ]
          },
          "metadata": {
            "tags": [],
            "needs_background": "light"
          }
        },
        {
          "output_type": "display_data",
          "data": {
            "image/png": "[encoded data removed]",
            "text/plain": [
              "<Figure size 432x288 with 1 Axes>"
            ]
          },
          "metadata": {
            "tags": [],
            "needs_background": "light"
          }
        }
      ]
    }
  ]
}